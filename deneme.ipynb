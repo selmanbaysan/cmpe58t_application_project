{
 "cells": [
  {
   "cell_type": "code",
   "execution_count": 5,
   "metadata": {},
   "outputs": [
    {
     "name": "stdout",
     "output_type": "stream",
     "text": [
      "datasets/fiqa\n",
      "datasets/trec-covid\n",
      "datasets/cqadupstack/gaming\n",
      "datasets/cqadupstack/tex\n",
      "datasets/cqadupstack/wordpress\n",
      "datasets/cqadupstack/mathematica\n",
      "datasets/cqadupstack/programmers\n",
      "datasets/cqadupstack/unix\n",
      "datasets/cqadupstack/english\n",
      "datasets/cqadupstack/webmasters\n",
      "datasets/cqadupstack/android\n",
      "datasets/cqadupstack/physics\n",
      "datasets/cqadupstack/gis\n",
      "datasets/cqadupstack/stats\n",
      "datasets/scifact\n"
     ]
    }
   ],
   "source": [
    "import os\n",
    "\n",
    "for folder in os.listdir('datasets'):\n",
    "    if os.path.isdir(os.path.join('datasets', folder)):\n",
    "        if folder == 'cqadupstack':\n",
    "            for subfolder in os.listdir(os.path.join('datasets', folder)):\n",
    "                if os.path.isdir(os.path.join('datasets', folder, subfolder)):\n",
    "                    print(os.path.join('datasets', folder, subfolder))\n",
    "        else:\n",
    "            print(os.path.join('datasets', folder))"
   ]
  },
  {
   "cell_type": "code",
   "execution_count": null,
   "metadata": {},
   "outputs": [],
   "source": []
  }
 ],
 "metadata": {
  "kernelspec": {
   "display_name": "Python 3",
   "language": "python",
   "name": "python3"
  },
  "language_info": {
   "codemirror_mode": {
    "name": "ipython",
    "version": 3
   },
   "file_extension": ".py",
   "mimetype": "text/x-python",
   "name": "python",
   "nbconvert_exporter": "python",
   "pygments_lexer": "ipython3",
   "version": "3.11.4"
  }
 },
 "nbformat": 4,
 "nbformat_minor": 2
}
