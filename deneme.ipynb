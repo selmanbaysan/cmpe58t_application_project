{
 "cells": [
  {
   "cell_type": "code",
   "execution_count": 5,
   "metadata": {},
   "outputs": [
    {
     "name": "stdout",
     "output_type": "stream",
     "text": [
      "datasets/fiqa\n",
      "datasets/trec-covid\n",
      "datasets/cqadupstack/gaming\n",
      "datasets/cqadupstack/tex\n",
      "datasets/cqadupstack/wordpress\n",
      "datasets/cqadupstack/mathematica\n",
      "datasets/cqadupstack/programmers\n",
      "datasets/cqadupstack/unix\n",
      "datasets/cqadupstack/english\n",
      "datasets/cqadupstack/webmasters\n",
      "datasets/cqadupstack/android\n",
      "datasets/cqadupstack/physics\n",
      "datasets/cqadupstack/gis\n",
      "datasets/cqadupstack/stats\n",
      "datasets/scifact\n"
     ]
    }
   ],
   "source": [
    "import os\n",
    "\n",
    "for folder in os.listdir('datasets'):\n",
    "    if os.path.isdir(os.path.join('datasets', folder)):\n",
    "        if folder == 'cqadupstack':\n",
    "            for subfolder in os.listdir(os.path.join('datasets', folder)):\n",
    "                if os.path.isdir(os.path.join('datasets', folder, subfolder)):\n",
    "                    print(os.path.join('datasets', folder, subfolder))\n",
    "        else:\n",
    "            print(os.path.join('datasets', folder))"
   ]
  },
  {
   "cell_type": "code",
   "execution_count": 4,
   "metadata": {},
   "outputs": [],
   "source": [
    "import json\n",
    "import pandas as pd\n",
    "\n",
    "def process_data(path):\n",
    "    with open(path, \"r\") as f:\n",
    "        corpus = [json.loads(line) for line in f]\n",
    "\n",
    "\n",
    "    df = pd.DataFrame(corpus)\n",
    "\n",
    "    unique_ids = df['_id'].unique().tolist()\n",
    "    print(len(unique_ids))"
   ]
  },
  {
   "cell_type": "code",
   "execution_count": 5,
   "metadata": {},
   "outputs": [
    {
     "name": "stdout",
     "output_type": "stream",
     "text": [
      "Processing fiqa-generated-queries\n",
      "Processing generated-queries/fiqa-generated-queries/train.jsonl\n",
      "56145\n",
      "Processing trec-covid-generated-queries\n",
      "Processing generated-queries/trec-covid-generated-queries/train.jsonl\n",
      "166944\n",
      "Processing scifact-generated-queries\n",
      "Processing generated-queries/scifact-generated-queries/train.jsonl\n",
      "5183\n",
      "Processing cqadupstack-generated-queries\n",
      "Processing gaming\n",
      "Processing generated-queries/cqadupstack-generated-queries/gaming/train.jsonl\n",
      "45301\n",
      "Processing tex\n",
      "Processing generated-queries/cqadupstack-generated-queries/tex/train.jsonl\n",
      "68184\n",
      "Processing wordpress\n",
      "Processing generated-queries/cqadupstack-generated-queries/wordpress/train.jsonl\n",
      "48605\n",
      "Processing mathematica\n",
      "Processing generated-queries/cqadupstack-generated-queries/mathematica/train.jsonl\n",
      "16705\n",
      "Processing programmers\n",
      "Processing generated-queries/cqadupstack-generated-queries/programmers/train.jsonl\n",
      "32176\n",
      "Processing unix\n",
      "Processing generated-queries/cqadupstack-generated-queries/unix/train.jsonl\n",
      "47382\n",
      "Processing english\n",
      "Processing generated-queries/cqadupstack-generated-queries/english/train.jsonl\n",
      "40221\n",
      "Processing webmasters\n",
      "Processing generated-queries/cqadupstack-generated-queries/webmasters/train.jsonl\n",
      "17405\n",
      "Processing android\n",
      "Processing generated-queries/cqadupstack-generated-queries/android/train.jsonl\n",
      "22998\n",
      "Processing physics\n",
      "Processing generated-queries/cqadupstack-generated-queries/physics/train.jsonl\n",
      "38316\n",
      "Processing gis\n",
      "Processing generated-queries/cqadupstack-generated-queries/gis/train.jsonl\n",
      "37637\n",
      "Processing stats\n",
      "Processing generated-queries/cqadupstack-generated-queries/stats/train.jsonl\n",
      "42269\n"
     ]
    }
   ],
   "source": [
    "import os\n",
    "data_path = \"generated-queries\"\n",
    "output_path = \"llm_generated_queries\"\n",
    "\n",
    "for dataset in os.listdir(data_path):\n",
    "    if dataset == \".DS_Store\":\n",
    "        continue\n",
    "    print(f\"Processing {dataset}\")\n",
    "    os.makedirs(f\"{output_path}/{dataset}\", exist_ok=True)\n",
    "\n",
    "    #check if corpus.jsonl exists in the dataset\n",
    "    if os.path.isdir(f\"{data_path}/{dataset}\") and not os.path.exists(f\"{data_path}/{dataset}/train.jsonl\"):\n",
    "        subfolders = os.listdir(f\"{data_path}/{dataset}\")\n",
    "        for subfolder in subfolders:\n",
    "            if subfolder == \".DS_Store\" or subfolder == \"README.md\" or subfolder == \".gitattributes\" or subfolder == \".git\":\n",
    "                continue\n",
    "            print(f\"Processing {subfolder}\")\n",
    "            if os.path.exists(f\"{data_path}/{dataset}/{subfolder}/train.jsonl\"):\n",
    "                corpus_path = f\"{data_path}/{dataset}/{subfolder}/train.jsonl\"\n",
    "                generated_path = f\"{output_path}/{dataset}/{subfolder}/train.jsonl\"\n",
    "                print(f\"Processing {corpus_path}\")\n",
    "                process_data(corpus_path)\n",
    "    elif os.path.exists(f\"{data_path}/{dataset}/train.jsonl\"):\n",
    "        corpus_path = f\"{data_path}/{dataset}/train.jsonl\"\n",
    "        generated_path = f\"{output_path}/{dataset}/train.jsonl\"\n",
    "        print(f\"Processing {corpus_path}\")\n",
    "        process_data(corpus_path)"
   ]
  }
 ],
 "metadata": {
  "kernelspec": {
   "display_name": "Python 3",
   "language": "python",
   "name": "python3"
  },
  "language_info": {
   "codemirror_mode": {
    "name": "ipython",
    "version": 3
   },
   "file_extension": ".py",
   "mimetype": "text/x-python",
   "name": "python",
   "nbconvert_exporter": "python",
   "pygments_lexer": "ipython3",
   "version": "3.11.4"
  }
 },
 "nbformat": 4,
 "nbformat_minor": 2
}
